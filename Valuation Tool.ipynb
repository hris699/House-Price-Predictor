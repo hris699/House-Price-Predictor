{
 "cells": [
  {
   "cell_type": "code",
   "execution_count": 1,
   "metadata": {},
   "outputs": [],
   "source": [
    "from sklearn.datasets import load_boston\n",
    "from sklearn.linear_model import LinearRegression\n",
    "from sklearn.metrics import mean_squared_error\n",
    "\n",
    "import pandas as pd\n",
    "import numpy as np"
   ]
  },
  {
   "cell_type": "code",
   "execution_count": 2,
   "metadata": {},
   "outputs": [],
   "source": [
    "# Gather Data\n",
    "boston_dataset = load_boston()\n",
    "data = pd.DataFrame(data= boston_dataset.data, columns=boston_dataset.feature_names)\n",
    "features = data.drop(['INDUS', 'AGE'], axis=1)\n",
    "\n",
    "log_prices = np.log(boston_dataset.target)\n",
    "target = pd.DataFrame(log_prices, columns=['PRICE'])"
   ]
  },
  {
   "cell_type": "code",
   "execution_count": 22,
   "metadata": {},
   "outputs": [],
   "source": [
    "CRIM_IDX = 0\n",
    "ZN_IDX = 1\n",
    "CHAS_IDX = 2\n",
    "RM_IDX = 4\n",
    "PTRATIO_IDX = 8\n",
    "\n",
    "# property_stats = np.ndarray(shape=(1,11))\n",
    "# property_stats[0][CRIME_IDX] = 0.02\n",
    "\n",
    "property_stats = features.mean().values.reshape(1,11)"
   ]
  },
  {
   "cell_type": "code",
   "execution_count": 16,
   "metadata": {},
   "outputs": [],
   "source": [
    "reg = LinearRegression().fit(features,target)\n",
    "fitted_vals = reg.predict(features)\n",
    "MSE = mean_squared_error(target, fitted_vals)\n",
    "RMSE = np.sqrt(MSE)"
   ]
  },
  {
   "cell_type": "code",
   "execution_count": 29,
   "metadata": {},
   "outputs": [],
   "source": [
    "def get_log_estimate(nm_rooms, student_per_classroom,\n",
    "                    next_to_river=False,high_confidence=True):\n",
    "    #Cofigure property\n",
    "    property_stats[0][RM_IDX] = nm_rooms\n",
    "    property_stats[0][PTRATIO_IDX] = student_per_classroom\n",
    "    \n",
    "    if next_to_river:\n",
    "        property_stats[0][CHAS_IDX]=1\n",
    "    else:\n",
    "        property_stats[0][CHAS_IDX]=0\n",
    "        \n",
    "     #Make Predictions\n",
    "    log_estimate = reg.predict(property_stats)[0][0]\n",
    "    \n",
    "    \n",
    "    # Calc Range\n",
    "    if high_confidence:\n",
    "        upper_bound = log_estimate +2*RMSE\n",
    "        lower_bound = log_estimate - 2*RMSE\n",
    "        interval = 95\n",
    "    else:\n",
    "        upper_bound = log_estimate + RMSE\n",
    "        lower_bound = log_estimate - RMSE\n",
    "        interval = 68\n",
    "    \n",
    "   \n",
    "    \n",
    "    return log_estimate, upper_bound, lower_bound, interval"
   ]
  },
  {
   "cell_type": "code",
   "execution_count": 30,
   "metadata": {},
   "outputs": [
    {
     "data": {
      "text/plain": [
       "(2.6716097430689403, 3.046634013463201, 2.2965854726746797, 95)"
      ]
     },
     "execution_count": 30,
     "metadata": {},
     "output_type": "execute_result"
    }
   ],
   "source": [
    "get_log_estimate(3,20)"
   ]
  },
  {
   "cell_type": "code",
   "execution_count": 36,
   "metadata": {},
   "outputs": [
    {
     "name": "stdout",
     "output_type": "stream",
     "text": [
      "The estimated property price is:827000.0\n",
      "At 68% confidence the valuation range is\n",
      "between USD 997000.0 and USD 685000.0\n"
     ]
    }
   ],
   "source": [
    "ZILLOW_MEDIAN_PRICE = 583.3\n",
    "SCALE_FACTOR = ZILLOW_MEDIAN_PRICE / np.median(boston_dataset.target)\n",
    "\n",
    "log_est, upper, lower, conf = get_log_estimate(9, student_per_classroom=15,\n",
    "                                              next_to_river=False,\n",
    "                                              high_confidence=False)\n",
    "\n",
    "#Convert to today's dollars\n",
    "dollar_est = np.e**log_est*1000*SCALE_FACTOR\n",
    "dollar_hi = np.e**upper*1000*SCALE_FACTOR\n",
    "dollar_low = np.e**lower*1000*SCALE_FACTOR\n",
    "\n",
    "# ROund the dollar value to nearest thousand\n",
    "rounded_est = np.around(dollar_est,-3)\n",
    "rounded_hi = np.around(dollar_hi,-3)\n",
    "rounded_low = np.around(dollar_low,-3)\n",
    "\n",
    "\n",
    "print(f'The estimated property price is:{rounded_est}')\n",
    "print(f'At {conf}% confidence the valuation range is')\n",
    "print(f'between USD {rounded_hi} and USD {rounded_low}')"
   ]
  },
  {
   "cell_type": "code",
   "execution_count": 51,
   "metadata": {},
   "outputs": [],
   "source": [
    "def get_dollar_est(rm, ptratio, chas=False, large_range=True):\n",
    "    \"\"\"Estimate the price of a property in Boston.\n",
    "    Keyword arguments:\n",
    "    rm-- number of rooms in the property.\n",
    "    ptratio--number of students per teacher in the classroom for the school in the area.\n",
    "    chas -- True if the property is next to the river, False otherwise.\n",
    "    large_range-- True for a 95% prediction interval, False for a 68% interval.\n",
    "    \n",
    "    \n",
    "    \"\"\"\n",
    "    \n",
    "    \n",
    "    \n",
    "    if rm < 1 or ptratio < 1:\n",
    "        print('That is unrealistic TRY AGAIN!!')\n",
    "        return\n",
    "    \n",
    "    log_est, upper, lower, conf = get_log_estimate(rm, student_per_classroom=ptratio,\n",
    "                                              next_to_river=chas,\n",
    "                                              high_confidence=large_range)\n",
    "\n",
    "    #Convert to today's dollars\n",
    "    dollar_est = np.e**log_est*1000*SCALE_FACTOR\n",
    "    dollar_hi = np.e**upper*1000*SCALE_FACTOR\n",
    "    dollar_low = np.e**lower*1000*SCALE_FACTOR\n",
    "\n",
    "    # ROund the dollar value to nearest thousand\n",
    "    rounded_est = np.around(dollar_est,-3)\n",
    "    rounded_hi = np.around(dollar_hi,-3)\n",
    "    rounded_low = np.around(dollar_low,-3)\n",
    "\n",
    "\n",
    "    print(f'The estimated property price is:{rounded_est}')\n",
    "    print(f'At {conf}% confidence the valuation range is')\n",
    "    print(f'between USD {rounded_hi} and USD {rounded_low}')"
   ]
  },
  {
   "cell_type": "code",
   "execution_count": 46,
   "metadata": {},
   "outputs": [
    {
     "name": "stdout",
     "output_type": "stream",
     "text": [
      "That is unrealistic TRY AGAIN\n"
     ]
    }
   ],
   "source": [
    "get_dollar_est(3,0,chas=True)"
   ]
  },
  {
   "cell_type": "code",
   "execution_count": null,
   "metadata": {},
   "outputs": [],
   "source": []
  }
 ],
 "metadata": {
  "kernelspec": {
   "display_name": "Python 3",
   "language": "python",
   "name": "python3"
  },
  "language_info": {
   "codemirror_mode": {
    "name": "ipython",
    "version": 3
   },
   "file_extension": ".py",
   "mimetype": "text/x-python",
   "name": "python",
   "nbconvert_exporter": "python",
   "pygments_lexer": "ipython3",
   "version": "3.7.3"
  }
 },
 "nbformat": 4,
 "nbformat_minor": 2
}
